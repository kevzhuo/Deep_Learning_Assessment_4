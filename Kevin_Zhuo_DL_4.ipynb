{
  "nbformat": 4,
  "nbformat_minor": 0,
  "metadata": {
    "anaconda-cloud": {},
    "kernelspec": {
      "display_name": "Python 3",
      "language": "python",
      "name": "python3"
    },
    "language_info": {
      "codemirror_mode": {
        "name": "ipython",
        "version": 3
      },
      "file_extension": ".py",
      "mimetype": "text/x-python",
      "name": "python",
      "nbconvert_exporter": "python",
      "pygments_lexer": "ipython3",
      "version": "3.6.6"
    },
    "colab": {
      "provenance": []
    },
    "accelerator": "GPU"
  },
  "cells": [
    {
      "cell_type": "markdown",
      "metadata": {
        "id": "cW-EyI5Lxpqi"
      },
      "source": [
        "# Copyright\n",
        "\n",
        "<PRE>\n",
        "Copyright (c) 2024 Bálint Gyires-Tóth - All Rights Reserved\n",
        "You may use and modify this code for research and development purpuses.\n",
        "Using this code for educational purposes (self-paced or instructor led) without the permission of the author is prohibited.\n",
        "</PRE>"
      ]
    },
    {
      "cell_type": "markdown",
      "source": [
        "# Convolutional Neural Network exercise\n",
        "\n",
        "In this notebook, you will build a convolutional neural network, which offers superior results over the previous MLP solution. Additionally, you will perform a more detailed evaluation."
      ],
      "metadata": {
        "id": "3EX4cCa4WKJu"
      }
    },
    {
      "cell_type": "code",
      "source": [
        "# imports\n",
        "from tensorflow.keras.datasets import cifar10\n",
        "from tensorflow.keras.utils import to_categorical\n",
        "import numpy as np\n",
        "import matplotlib.pyplot as plt\n",
        "from tensorflow.keras.models import Sequential\n",
        "from tensorflow.keras.layers import Dense, Conv2D, MaxPool2D, Flatten, Dropout, BatchNormalization\n",
        "from tensorflow.keras.initializers import HeNormal\n",
        "from tensorflow.keras.callbacks import EarlyStopping"
      ],
      "metadata": {
        "id": "GdCMhy4HA2qd"
      },
      "execution_count": 1,
      "outputs": []
    },
    {
      "cell_type": "markdown",
      "source": [
        "# 1. Data\n",
        "The dataset we will use is the well-known CIFAR10 (Canadian Institute For Advanced Research). Explore the details on the Keras website first: https://keras.io/api/datasets/cifar10/\n",
        "\n",
        "There isn't much difference between the data preprocessing part and the one we did before. The only difference is that we don't have to reshape images into vectors, but we are working with a 4 dimensional data structure, where the dimensions are: batch, X, Y, and color channels.\n",
        "\n",
        "In the event that anything is not clear regarding the data preparation part, please check the previous CIFAR10 notebook."
      ],
      "metadata": {
        "id": "yY9fztIeWIKt"
      }
    },
    {
      "cell_type": "code",
      "source": [
        "(X_train, Y_train), (X_test, Y_test) = cifar10.load_data()"
      ],
      "metadata": {
        "id": "bez7q0eiWQCK",
        "colab": {
          "base_uri": "https://localhost:8080/"
        },
        "outputId": "e0e3280e-b5da-4784-fc04-b34e40a42413"
      },
      "execution_count": 2,
      "outputs": [
        {
          "output_type": "stream",
          "name": "stdout",
          "text": [
            "Downloading data from https://www.cs.toronto.edu/~kriz/cifar-10-python.tar.gz\n",
            "170498071/170498071 [==============================] - 13s 0us/step\n"
          ]
        }
      ]
    },
    {
      "cell_type": "code",
      "source": [
        "# it is in int8 format, the neural network requires float32\n",
        "X_train = X_train.astype(\"float32\")\n",
        "X_test = X_test.astype(\"float32\")"
      ],
      "metadata": {
        "id": "vukOcBM0XzSj"
      },
      "execution_count": 3,
      "outputs": []
    },
    {
      "cell_type": "code",
      "source": [
        "train_ratio  = 0.8\n",
        "train_length = X_train.shape[0]\n",
        "train_split  = int(train_ratio*train_length)\n",
        "X_valid, Y_valid = X_train[train_split:], Y_train[train_split:]\n",
        "X_train, Y_train = X_train[:train_split], Y_train[:train_split]"
      ],
      "metadata": {
        "id": "mRwuWxxIxLgN"
      },
      "execution_count": 4,
      "outputs": []
    },
    {
      "cell_type": "code",
      "source": [
        "mean = X_train.mean(axis=0)\n",
        "std  = X_train.std(axis=0)\n",
        "\n",
        "X_train = (X_train-mean)/std\n",
        "X_valid = (X_valid-mean)/std\n",
        "X_test  = (X_test-mean)/std"
      ],
      "metadata": {
        "id": "2ESLP1EIyB2J"
      },
      "execution_count": 5,
      "outputs": []
    },
    {
      "cell_type": "code",
      "source": [
        "nb_classes = len(np.unique(Y_train))\n",
        "Y_train = to_categorical(Y_train, nb_classes)\n",
        "Y_valid = to_categorical(Y_valid, nb_classes)\n",
        "Y_test  = to_categorical(Y_test, nb_classes)"
      ],
      "metadata": {
        "id": "xwZ4OJ6I8lba"
      },
      "execution_count": 6,
      "outputs": []
    },
    {
      "cell_type": "code",
      "source": [
        "print(\"Shapes of the training, validation and test input data:\", X_train.shape, X_valid.shape, X_test.shape)\n",
        "print(\"Shapes of the training, validation and test output data:\", Y_train.shape, Y_valid.shape, Y_test.shape)\n",
        "print(\"Mean values of the training, validation and test input data:\", X_train.mean(), X_valid.mean(), X_test.mean())\n",
        "print(\"Standard deviation of the training, validation and test input data:\", X_train.std(), X_valid.std(), X_test.std())"
      ],
      "metadata": {
        "id": "O_jdJVcvX0vi",
        "colab": {
          "base_uri": "https://localhost:8080/"
        },
        "outputId": "5cdd8f9c-96bd-4d1a-d450-eefc646e2f3a"
      },
      "execution_count": 7,
      "outputs": [
        {
          "output_type": "stream",
          "name": "stdout",
          "text": [
            "Shapes of the training, validation and test input data: (40000, 32, 32, 3) (10000, 32, 32, 3) (10000, 32, 32, 3)\n",
            "Shapes of the training, validation and test output data: (40000, 10) (10000, 10) (10000, 10)\n",
            "Mean values of the training, validation and test input data: 2.2788842e-09 0.0023437198 0.013331206\n",
            "Standard deviation of the training, validation and test input data: 1.0000023 0.9965626 0.99783075\n"
          ]
        }
      ]
    },
    {
      "cell_type": "markdown",
      "metadata": {
        "id": "cJ14oyZExpqj"
      },
      "source": [
        "# 2. Exercise: training"
      ]
    },
    {
      "cell_type": "markdown",
      "source": [
        "Create and train a convolutional neural network with the following requirements:\n",
        "* apply early stopping with patience=5 and monitor the validation accuracy, don't forget to load back the best weights after early stopping\n",
        "* the number of trainable parameters is lower than 200.000\n",
        "* the validation accuracy must be higher than 72%\n",
        "\n",
        "Hints:\n",
        "* you can always inspect the number of trainable parameters per layer with model.summary()\n",
        "* usually the most trainable parameters are between the last convolutional layer and the next dense layer -- so you should have a reasonable output size at the last convolutional layer\n",
        "* regularization helps (e.g. DropOut and/or BatchNormalization)\n",
        "* use the right activation function at the output layer and the corresponding loss function\n",
        "* for the chosen activation functions, please use the appropriate initialization method\n",
        "* you can match the dimension of the last conv/pooling layer to the next dense layer with e.g. Flatten()\n",
        "* ADAM optimizer is a reasonable choice\n",
        "* don't forget to turn on GPU support in Colab, otherwise, it would be quite slow to train the networks\n",
        "\n"
      ],
      "metadata": {
        "id": "j1tGVPdD-pp3"
      }
    },
    {
      "cell_type": "code",
      "source": [
        "es =  EarlyStopping(monitor='val_loss', restore_best_weights=True, patience=5)"
      ],
      "metadata": {
        "id": "5dBQxJHIHrbd"
      },
      "execution_count": 8,
      "outputs": []
    },
    {
      "cell_type": "code",
      "source": [
        "# model definition\n",
        "model = Sequential()\n",
        "model.add(Conv2D(32, (3, 3), activation='relu', kernel_initializer=HeNormal(), input_shape=(32, 32, 3)))\n",
        "model.add(BatchNormalization())\n",
        "model.add(MaxPool2D((2, 2)))\n",
        "model.add(Dropout(0.25))\n",
        "\n",
        "model.add(Conv2D(64, (3, 3), activation='relu', kernel_initializer=HeNormal()))\n",
        "model.add(BatchNormalization())\n",
        "model.add(MaxPool2D((2, 2)))\n",
        "model.add(Dropout(0.25))\n",
        "\n",
        "model.add(Conv2D(128, (3, 3), activation='relu', kernel_initializer=HeNormal()))\n",
        "model.add(BatchNormalization())\n",
        "model.add(MaxPool2D((2, 2)))\n",
        "model.add(Dropout(0.25))\n",
        "\n",
        "model.add(Flatten())\n",
        "model.add(Dense(128, activation='relu', kernel_initializer=HeNormal()))\n",
        "model.add(BatchNormalization())\n",
        "model.add(Dropout(0.5))\n",
        "model.add(Dense(nb_classes, activation='softmax'))\n",
        "\n",
        "# loss function and optimizer\n",
        "model.compile(loss='categorical_crossentropy', optimizer='adam', metrics=['accuracy'])"
      ],
      "metadata": {
        "id": "PuxHOqLt-3Nd"
      },
      "execution_count": 25,
      "outputs": []
    },
    {
      "cell_type": "code",
      "source": [
        "model.summary()"
      ],
      "metadata": {
        "id": "5eomQw8uE9Ix",
        "colab": {
          "base_uri": "https://localhost:8080/"
        },
        "outputId": "9687e900-e938-4c47-9f77-0fe3d33e7b70"
      },
      "execution_count": 26,
      "outputs": [
        {
          "output_type": "stream",
          "name": "stdout",
          "text": [
            "Model: \"sequential_7\"\n",
            "_________________________________________________________________\n",
            " Layer (type)                Output Shape              Param #   \n",
            "=================================================================\n",
            " conv2d_21 (Conv2D)          (None, 30, 30, 32)        896       \n",
            "                                                                 \n",
            " batch_normalization_4 (Bat  (None, 30, 30, 32)        128       \n",
            " chNormalization)                                                \n",
            "                                                                 \n",
            " max_pooling2d_16 (MaxPooli  (None, 15, 15, 32)        0         \n",
            " ng2D)                                                           \n",
            "                                                                 \n",
            " dropout_7 (Dropout)         (None, 15, 15, 32)        0         \n",
            "                                                                 \n",
            " conv2d_22 (Conv2D)          (None, 13, 13, 64)        18496     \n",
            "                                                                 \n",
            " batch_normalization_5 (Bat  (None, 13, 13, 64)        256       \n",
            " chNormalization)                                                \n",
            "                                                                 \n",
            " max_pooling2d_17 (MaxPooli  (None, 6, 6, 64)          0         \n",
            " ng2D)                                                           \n",
            "                                                                 \n",
            " dropout_8 (Dropout)         (None, 6, 6, 64)          0         \n",
            "                                                                 \n",
            " conv2d_23 (Conv2D)          (None, 4, 4, 128)         73856     \n",
            "                                                                 \n",
            " batch_normalization_6 (Bat  (None, 4, 4, 128)         512       \n",
            " chNormalization)                                                \n",
            "                                                                 \n",
            " max_pooling2d_18 (MaxPooli  (None, 2, 2, 128)         0         \n",
            " ng2D)                                                           \n",
            "                                                                 \n",
            " dropout_9 (Dropout)         (None, 2, 2, 128)         0         \n",
            "                                                                 \n",
            " flatten_3 (Flatten)         (None, 512)               0         \n",
            "                                                                 \n",
            " dense_6 (Dense)             (None, 128)               65664     \n",
            "                                                                 \n",
            " batch_normalization_7 (Bat  (None, 128)               512       \n",
            " chNormalization)                                                \n",
            "                                                                 \n",
            " dropout_10 (Dropout)        (None, 128)               0         \n",
            "                                                                 \n",
            " dense_7 (Dense)             (None, 10)                1290      \n",
            "                                                                 \n",
            "=================================================================\n",
            "Total params: 161610 (631.29 KB)\n",
            "Trainable params: 160906 (628.54 KB)\n",
            "Non-trainable params: 704 (2.75 KB)\n",
            "_________________________________________________________________\n"
          ]
        }
      ]
    },
    {
      "cell_type": "markdown",
      "source": [
        "Please, check the number of trainable paramers:"
      ],
      "metadata": {
        "id": "8tIbIIeTEI41"
      }
    },
    {
      "cell_type": "code",
      "source": [
        "print(\"#trainable parameters:\",model.count_params())"
      ],
      "metadata": {
        "id": "xdBAG7EJETlX",
        "colab": {
          "base_uri": "https://localhost:8080/"
        },
        "outputId": "b15a8ebf-fb02-4b09-e2ed-78c01cc1436b"
      },
      "execution_count": 27,
      "outputs": [
        {
          "output_type": "stream",
          "name": "stdout",
          "text": [
            "#trainable parameters: 161610\n"
          ]
        }
      ]
    },
    {
      "cell_type": "code",
      "source": [
        "# training\n",
        "network_history = model.fit(X_train, Y_train,\n",
        "                            validation_data=(X_valid,Y_valid),\n",
        "                            batch_size=128,\n",
        "                            epochs=100,\n",
        "                            verbose=1,\n",
        "                            callbacks=[es])"
      ],
      "metadata": {
        "id": "u8tFNCNVHyt9",
        "colab": {
          "base_uri": "https://localhost:8080/"
        },
        "outputId": "477437cb-5c17-4ed4-c353-321553191ffc"
      },
      "execution_count": 28,
      "outputs": [
        {
          "output_type": "stream",
          "name": "stdout",
          "text": [
            "Epoch 1/100\n",
            "313/313 [==============================] - 7s 13ms/step - loss: 2.0110 - accuracy: 0.3341 - val_loss: 1.6221 - val_accuracy: 0.3985\n",
            "Epoch 2/100\n",
            "313/313 [==============================] - 4s 12ms/step - loss: 1.4706 - accuracy: 0.4650 - val_loss: 1.3775 - val_accuracy: 0.4947\n",
            "Epoch 3/100\n",
            "313/313 [==============================] - 3s 11ms/step - loss: 1.3103 - accuracy: 0.5304 - val_loss: 1.3181 - val_accuracy: 0.5199\n",
            "Epoch 4/100\n",
            "313/313 [==============================] - 3s 10ms/step - loss: 1.2146 - accuracy: 0.5688 - val_loss: 1.1983 - val_accuracy: 0.5705\n",
            "Epoch 5/100\n",
            "313/313 [==============================] - 3s 10ms/step - loss: 1.1433 - accuracy: 0.5930 - val_loss: 1.0961 - val_accuracy: 0.6104\n",
            "Epoch 6/100\n",
            "313/313 [==============================] - 4s 12ms/step - loss: 1.0878 - accuracy: 0.6180 - val_loss: 1.0497 - val_accuracy: 0.6250\n",
            "Epoch 7/100\n",
            "313/313 [==============================] - 3s 10ms/step - loss: 1.0448 - accuracy: 0.6343 - val_loss: 0.9558 - val_accuracy: 0.6658\n",
            "Epoch 8/100\n",
            "313/313 [==============================] - 3s 10ms/step - loss: 0.9985 - accuracy: 0.6516 - val_loss: 0.9214 - val_accuracy: 0.6751\n",
            "Epoch 9/100\n",
            "313/313 [==============================] - 3s 10ms/step - loss: 0.9645 - accuracy: 0.6618 - val_loss: 0.8809 - val_accuracy: 0.6899\n",
            "Epoch 10/100\n",
            "313/313 [==============================] - 4s 12ms/step - loss: 0.9317 - accuracy: 0.6738 - val_loss: 0.8427 - val_accuracy: 0.6993\n",
            "Epoch 11/100\n",
            "313/313 [==============================] - 3s 10ms/step - loss: 0.9119 - accuracy: 0.6818 - val_loss: 0.8419 - val_accuracy: 0.6993\n",
            "Epoch 12/100\n",
            "313/313 [==============================] - 3s 10ms/step - loss: 0.8824 - accuracy: 0.6932 - val_loss: 0.8237 - val_accuracy: 0.7126\n",
            "Epoch 13/100\n",
            "313/313 [==============================] - 4s 12ms/step - loss: 0.8584 - accuracy: 0.7017 - val_loss: 0.8061 - val_accuracy: 0.7160\n",
            "Epoch 14/100\n",
            "313/313 [==============================] - 3s 11ms/step - loss: 0.8405 - accuracy: 0.7078 - val_loss: 0.7919 - val_accuracy: 0.7222\n",
            "Epoch 15/100\n",
            "313/313 [==============================] - 3s 10ms/step - loss: 0.8216 - accuracy: 0.7131 - val_loss: 0.7498 - val_accuracy: 0.7364\n",
            "Epoch 16/100\n",
            "313/313 [==============================] - 3s 10ms/step - loss: 0.7992 - accuracy: 0.7211 - val_loss: 0.7573 - val_accuracy: 0.7350\n",
            "Epoch 17/100\n",
            "313/313 [==============================] - 4s 11ms/step - loss: 0.7910 - accuracy: 0.7266 - val_loss: 0.7470 - val_accuracy: 0.7390\n",
            "Epoch 18/100\n",
            "313/313 [==============================] - 3s 10ms/step - loss: 0.7764 - accuracy: 0.7310 - val_loss: 0.6994 - val_accuracy: 0.7557\n",
            "Epoch 19/100\n",
            "313/313 [==============================] - 3s 11ms/step - loss: 0.7593 - accuracy: 0.7330 - val_loss: 0.7068 - val_accuracy: 0.7542\n",
            "Epoch 20/100\n",
            "313/313 [==============================] - 4s 12ms/step - loss: 0.7452 - accuracy: 0.7429 - val_loss: 0.7212 - val_accuracy: 0.7469\n",
            "Epoch 21/100\n",
            "313/313 [==============================] - 3s 11ms/step - loss: 0.7350 - accuracy: 0.7453 - val_loss: 0.7315 - val_accuracy: 0.7453\n",
            "Epoch 22/100\n",
            "313/313 [==============================] - 3s 10ms/step - loss: 0.7329 - accuracy: 0.7463 - val_loss: 0.6706 - val_accuracy: 0.7676\n",
            "Epoch 23/100\n",
            "313/313 [==============================] - 3s 10ms/step - loss: 0.7143 - accuracy: 0.7536 - val_loss: 0.6598 - val_accuracy: 0.7692\n",
            "Epoch 24/100\n",
            "313/313 [==============================] - 4s 12ms/step - loss: 0.7054 - accuracy: 0.7546 - val_loss: 0.6748 - val_accuracy: 0.7696\n",
            "Epoch 25/100\n",
            "313/313 [==============================] - 3s 10ms/step - loss: 0.6978 - accuracy: 0.7577 - val_loss: 0.6772 - val_accuracy: 0.7668\n",
            "Epoch 26/100\n",
            "313/313 [==============================] - 3s 10ms/step - loss: 0.6890 - accuracy: 0.7602 - val_loss: 0.6666 - val_accuracy: 0.7719\n",
            "Epoch 27/100\n",
            "313/313 [==============================] - 3s 10ms/step - loss: 0.6782 - accuracy: 0.7651 - val_loss: 0.6896 - val_accuracy: 0.7656\n",
            "Epoch 28/100\n",
            "313/313 [==============================] - 4s 12ms/step - loss: 0.6711 - accuracy: 0.7671 - val_loss: 0.6567 - val_accuracy: 0.7744\n",
            "Epoch 29/100\n",
            "313/313 [==============================] - 3s 10ms/step - loss: 0.6709 - accuracy: 0.7685 - val_loss: 0.6553 - val_accuracy: 0.7725\n",
            "Epoch 30/100\n",
            "313/313 [==============================] - 3s 10ms/step - loss: 0.6629 - accuracy: 0.7685 - val_loss: 0.6673 - val_accuracy: 0.7686\n",
            "Epoch 31/100\n",
            "313/313 [==============================] - 4s 12ms/step - loss: 0.6553 - accuracy: 0.7732 - val_loss: 0.6473 - val_accuracy: 0.7778\n",
            "Epoch 32/100\n",
            "313/313 [==============================] - 3s 11ms/step - loss: 0.6464 - accuracy: 0.7748 - val_loss: 0.6328 - val_accuracy: 0.7813\n",
            "Epoch 33/100\n",
            "313/313 [==============================] - 3s 10ms/step - loss: 0.6365 - accuracy: 0.7788 - val_loss: 0.6331 - val_accuracy: 0.7811\n",
            "Epoch 34/100\n",
            "313/313 [==============================] - 3s 10ms/step - loss: 0.6327 - accuracy: 0.7799 - val_loss: 0.6425 - val_accuracy: 0.7798\n",
            "Epoch 35/100\n",
            "313/313 [==============================] - 4s 12ms/step - loss: 0.6299 - accuracy: 0.7804 - val_loss: 0.6323 - val_accuracy: 0.7830\n",
            "Epoch 36/100\n",
            "313/313 [==============================] - 3s 10ms/step - loss: 0.6305 - accuracy: 0.7807 - val_loss: 0.6244 - val_accuracy: 0.7883\n",
            "Epoch 37/100\n",
            "313/313 [==============================] - 3s 10ms/step - loss: 0.6181 - accuracy: 0.7865 - val_loss: 0.6379 - val_accuracy: 0.7825\n",
            "Epoch 38/100\n",
            "313/313 [==============================] - 3s 10ms/step - loss: 0.6187 - accuracy: 0.7836 - val_loss: 0.6368 - val_accuracy: 0.7837\n",
            "Epoch 39/100\n",
            "313/313 [==============================] - 4s 12ms/step - loss: 0.6167 - accuracy: 0.7851 - val_loss: 0.6366 - val_accuracy: 0.7824\n",
            "Epoch 40/100\n",
            "313/313 [==============================] - 3s 10ms/step - loss: 0.6094 - accuracy: 0.7862 - val_loss: 0.6298 - val_accuracy: 0.7847\n",
            "Epoch 41/100\n",
            "313/313 [==============================] - 3s 10ms/step - loss: 0.6081 - accuracy: 0.7879 - val_loss: 0.6160 - val_accuracy: 0.7873\n",
            "Epoch 42/100\n",
            "313/313 [==============================] - 4s 12ms/step - loss: 0.6000 - accuracy: 0.7908 - val_loss: 0.6229 - val_accuracy: 0.7854\n",
            "Epoch 43/100\n",
            "313/313 [==============================] - 3s 11ms/step - loss: 0.6029 - accuracy: 0.7916 - val_loss: 0.6120 - val_accuracy: 0.7920\n",
            "Epoch 44/100\n",
            "313/313 [==============================] - 3s 10ms/step - loss: 0.6029 - accuracy: 0.7894 - val_loss: 0.6187 - val_accuracy: 0.7903\n",
            "Epoch 45/100\n",
            "313/313 [==============================] - 3s 10ms/step - loss: 0.5944 - accuracy: 0.7945 - val_loss: 0.6323 - val_accuracy: 0.7846\n",
            "Epoch 46/100\n",
            "313/313 [==============================] - 4s 12ms/step - loss: 0.5932 - accuracy: 0.7939 - val_loss: 0.6173 - val_accuracy: 0.7876\n",
            "Epoch 47/100\n",
            "313/313 [==============================] - 3s 10ms/step - loss: 0.5867 - accuracy: 0.7965 - val_loss: 0.6181 - val_accuracy: 0.7876\n",
            "Epoch 48/100\n",
            "313/313 [==============================] - 3s 10ms/step - loss: 0.5843 - accuracy: 0.7956 - val_loss: 0.6578 - val_accuracy: 0.7756\n"
          ]
        }
      ]
    },
    {
      "cell_type": "markdown",
      "source": [
        "# 3. Exercise: evaluation on test data\n",
        "You will evaluate the classification of the test data using the common metrics and the confusion matrix in this section.\n",
        "\n",
        "\n",
        "As a first stes, let's run the predictions and convert the predicted softmax outputs to dense labels. The one-hot encoded labels are also converted back to dense labels, as they are required for the evaluation functions."
      ],
      "metadata": {
        "id": "2FtKp-a2-A9m"
      }
    },
    {
      "cell_type": "code",
      "source": [
        "probas = model.predict(X_test)\n",
        "preds  = np.argmax(probas,axis=1)\n",
        "Y_test_dense = np.argmax(Y_test, axis=1) # get the original dense labels of the test data"
      ],
      "metadata": {
        "id": "EcWAqwlDMq3y",
        "colab": {
          "base_uri": "https://localhost:8080/"
        },
        "outputId": "684d1a19-0dec-4545-dae9-7192173037fb"
      },
      "execution_count": 29,
      "outputs": [
        {
          "output_type": "stream",
          "name": "stdout",
          "text": [
            "313/313 [==============================] - 1s 2ms/step\n"
          ]
        }
      ]
    },
    {
      "cell_type": "markdown",
      "source": [
        "## 3.1. Exercise: Metrics\n",
        "please review the common classification metrics (accuracy, precision, recall, F1) for the complete model (not per class).\n",
        "\n",
        "Hints:\n",
        "* use macro averaging\n",
        "* you have to import the right functions from [sklearn.metrics](https://scikit-learn.org/stable/modules/model_evaluation.html)\n"
      ],
      "metadata": {
        "id": "RWJ-PH_iMs9K"
      }
    },
    {
      "cell_type": "code",
      "source": [
        "from sklearn.metrics import accuracy_score, precision_score, recall_score, f1_score"
      ],
      "metadata": {
        "id": "5sKm5zHSMZ_x"
      },
      "execution_count": 31,
      "outputs": []
    },
    {
      "cell_type": "code",
      "source": [
        "print(\"Accuracy:\", accuracy_score(Y_test_dense, preds))\n",
        "print(\"Precision:\", precision_score(Y_test_dense, preds, average = 'macro'))\n",
        "print(\"Recall:\", recall_score(Y_test_dense, preds, average = 'macro'))\n",
        "print(\"F1:\", f1_score(Y_test_dense, preds, average = 'macro'))"
      ],
      "metadata": {
        "id": "I3_9wgDREUna",
        "colab": {
          "base_uri": "https://localhost:8080/"
        },
        "outputId": "a7473ea6-0142-4fbc-b334-c644c9e9708f"
      },
      "execution_count": 36,
      "outputs": [
        {
          "output_type": "stream",
          "name": "stdout",
          "text": [
            "Accuracy: 0.7856\n",
            "Precision: 0.7874448394999476\n",
            "Recall: 0.7856000000000001\n",
            "F1: 0.7842702338645386\n"
          ]
        }
      ]
    },
    {
      "cell_type": "markdown",
      "source": [
        "\n",
        "## 3.2. Exercise: Confusion matrix\n",
        "Calculate the confusion matrix and display the results in a heatmap (with decimal values).\n",
        "\n",
        "Hints:\n",
        "* you have to do the imports this time too, e.g. from [sklearn.metrics](https://scikit-learn.org/stable/modules/model_evaluation.html) and the [heatmap function](https://seaborn.pydata.org/generated/seaborn.heatmap.html) of [seaborn](https://seaborn.pydata.org/)\n",
        "* for displaying the decimal values, you have to turn annot=True and define fmt='d' in the heatmap function of seaborn"
      ],
      "metadata": {
        "id": "ECHguBFtGL7f"
      }
    },
    {
      "cell_type": "code",
      "source": [
        "from sklearn.metrics import confusion_matrix\n",
        "import seaborn as sns"
      ],
      "metadata": {
        "id": "SIi2VzMBO3yD"
      },
      "execution_count": 35,
      "outputs": []
    },
    {
      "cell_type": "code",
      "metadata": {
        "id": "cdqODx92Svw7",
        "colab": {
          "base_uri": "https://localhost:8080/",
          "height": 576
        },
        "outputId": "7469f780-fdeb-41ee-d590-3fb8ebcd6ba9"
      },
      "source": [
        "conf = confusion_matrix(Y_test_dense, preds)\n",
        "plt.figure(figsize=(7,6))\n",
        "ax = sns.heatmap(conf, annot = True, fmt = 'd')\n",
        "ax.set(xlabel=\"Y_test\", ylabel=\"Y_predicted\")"
      ],
      "execution_count": 39,
      "outputs": [
        {
          "output_type": "execute_result",
          "data": {
            "text/plain": [
              "[Text(0.5, 36.72222222222221, 'Y_test'),\n",
              " Text(58.222222222222214, 0.5, 'Y_predicted')]"
            ]
          },
          "metadata": {},
          "execution_count": 39
        },
        {
          "output_type": "display_data",
          "data": {
            "text/plain": [
              "<Figure size 700x600 with 2 Axes>"
            ],
            "image/png": "[encoded data removed]"
          },
          "metadata": {}
        }
      ]
    }
  ]
}
